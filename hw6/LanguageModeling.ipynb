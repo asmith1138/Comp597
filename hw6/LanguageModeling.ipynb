{
 "cells": [
  {
   "cell_type": "code",
   "execution_count": 1,
   "metadata": {
    "colab": {
     "base_uri": "https://localhost:8080/",
     "height": 69
    },
    "id": "FFkw9E3JET-Z",
    "outputId": "29dc52cc-df05-4d63-fdee-f47f4f2435ee"
   },
   "outputs": [
    {
     "name": "stderr",
     "output_type": "stream",
     "text": [
      "[nltk_data] Downloading package reuters to\n",
      "[nltk_data]     C:\\Users\\hoang\\AppData\\Roaming\\nltk_data...\n",
      "[nltk_data] Downloading package punkt to\n",
      "[nltk_data]     C:\\Users\\hoang\\AppData\\Roaming\\nltk_data...\n",
      "[nltk_data]   Unzipping tokenizers\\punkt.zip.\n"
     ]
    }
   ],
   "source": [
    "import nltk\n",
    "from nltk.corpus import reuters\n",
    "from nltk import bigrams, trigrams\n",
    "from collections import Counter, defaultdict\n",
    "\n",
    "nltk.download('reuters')\n",
    "nltk.download('punkt')\n",
    "# Create a placeholder for model\n",
    "model = defaultdict(lambda: defaultdict(lambda: 0))\n",
    "\n"
   ]
  },
  {
   "cell_type": "code",
   "execution_count": 5,
   "metadata": {
    "colab": {
     "base_uri": "https://localhost:8080/",
     "height": 191
    },
    "id": "AZkZpL7KINZF",
    "outputId": "bac6df7b-77db-41af-8d62-3477a732cdfe"
   },
   "outputs": [
    {
     "name": "stdout",
     "output_type": "stream",
     "text": [
      "None None what\n",
      "None what is\n",
      "what is the\n",
      "is the cat\n",
      "the cat on\n",
      "cat on the\n",
      "on the table\n",
      "the table ?\n",
      "table ? None\n",
      "? None None\n"
     ]
    }
   ],
   "source": [
    "for w1, w2, w3 in trigrams([\"what\", \"is\", \"the\", \"cat\",\"on\", \"the\",\"table\", \"?\"], pad_right=True, pad_left=True):\n",
    "  print (w1, w2, w3)"
   ]
  },
  {
   "cell_type": "code",
   "execution_count": 9,
   "metadata": {
    "id": "jQ9jSHTQEfJ9"
   },
   "outputs": [],
   "source": [
    "# Count frequency of co-occurance  \n",
    "for sentence in reuters.sents():\n",
    "    for w1, w2, w3 in trigrams(sentence, pad_right=True, pad_left=True):\n",
    "        model[(w1, w2)][w3] += 1\n",
    " \n"
   ]
  },
  {
   "cell_type": "code",
   "execution_count": 23,
   "metadata": {},
   "outputs": [],
   "source": [
    "# Let's transform the counts to probabilities\n",
    "for w1_w2 in model:\n",
    "    total_count = float(sum(model[(w1, w2)].values()))\n",
    "    for w3 in model[(w1, w2)]:\n",
    "        model[(w1, w2)][w3] /= total_count\n"
   ]
  },
  {
   "cell_type": "code",
   "execution_count": 22,
   "metadata": {},
   "outputs": [
    {
     "name": "stdout",
     "output_type": "stream",
     "text": [
      "2\n",
      "[['They', 'told', 'Reuter', 'correspondents', 'in', 'Asian', 'capitals', 'a', 'U', '.', 'S', '.', 'Move', 'against', 'Japan', 'might', 'boost', 'protectionist', 'sentiment', 'in', 'the', 'U', '.', 'S', '.', 'And', 'lead', 'to', 'curbs', 'on', 'American', 'imports', 'of', 'their', 'products', '.'], ['But', 'some', 'exporters', 'said', 'that', 'while', 'the', 'conflict', 'would', 'hurt', 'them', 'in', 'the', 'long', '-', 'run', ',', 'in', 'the', 'short', '-', 'term', 'Tokyo', \"'\", 's', 'loss', 'might', 'be', 'their', 'gain', '.'], ['The', 'U', '.', 'S', '.', 'Has', 'said', 'it', 'will', 'impose', '300', 'mln', 'dlrs', 'of', 'tariffs', 'on', 'imports', 'of', 'Japanese', 'electronics', 'goods', 'on', 'April', '17', ',', 'in', 'retaliation', 'for', 'Japan', \"'\", 's', 'alleged', 'failure', 'to', 'stick', 'to', 'a', 'pact', 'not', 'to', 'sell', 'semiconductors', 'on', 'world', 'markets', 'at', 'below', 'cost', '.'], ['Unofficial', 'Japanese', 'estimates', 'put', 'the', 'impact', 'of', 'the', 'tariffs', 'at', '10', 'billion', 'dlrs', 'and', 'spokesmen', 'for', 'major', 'electronics', 'firms', 'said', 'they', 'would', 'virtually', 'halt', 'exports', 'of', 'products', 'hit', 'by', 'the', 'new', 'taxes', '.'], ['\"', 'We', 'wouldn', \"'\", 't', 'be', 'able', 'to', 'do', 'business', ',\"', 'said', 'a', 'spokesman', 'for', 'leading', 'Japanese', 'electronics', 'firm', 'Matsushita', 'Electric', 'Industrial', 'Co', 'Ltd', '&', 'lt', ';', 'MC', '.', 'T', '>.'], ['\"', 'If', 'the', 'tariffs', 'remain', 'in', 'place', 'for', 'any', 'length', 'of', 'time', 'beyond', 'a', 'few', 'months', 'it', 'will', 'mean', 'the', 'complete', 'erosion', 'of', 'exports', '(', 'of', 'goods', 'subject', 'to', 'tariffs', ')', 'to', 'the', 'U', '.', 'S', '.,\"', 'said', 'Tom', 'Murtha', ',', 'a', 'stock', 'analyst', 'at', 'the', 'Tokyo', 'office', 'of', 'broker', '&', 'lt', ';', 'James', 'Capel', 'and', 'Co', '>.'], ['In', 'Taiwan', ',', 'businessmen', 'and', 'officials', 'are', 'also', 'worried', '.'], ['\"', 'We', 'are', 'aware', 'of', 'the', 'seriousness', 'of', 'the', 'U', '.', 'S', '.'], ['Threat', 'against', 'Japan', 'because', 'it', 'serves', 'as', 'a', 'warning', 'to', 'us', ',\"', 'said', 'a', 'senior', 'Taiwanese', 'trade', 'official', 'who', 'asked', 'not', 'to', 'be', 'named', '.']]\n"
     ]
    }
   ],
   "source": [
    "print(model[(\"They\",\"told\")][\"Reuter\"])\n",
    "print(reuters.sents()[1:10])"
   ]
  },
  {
   "cell_type": "code",
   "execution_count": 24,
   "metadata": {
    "colab": {
     "base_uri": "https://localhost:8080/",
     "height": 1000
    },
    "id": "HF8ukr7jGagU",
    "outputId": "596278c8-c201-47e7-f4f4-60525ce08bda"
   },
   "outputs": [
    {
     "data": {
      "text/plain": [
       "[('of', 138),\n",
       " ('it', 24),\n",
       " ('to', 24),\n",
       " ('for', 22),\n",
       " ('.', 10),\n",
       " ('at', 10),\n",
       " ('adjustment', 10),\n",
       " ('is', 8),\n",
       " (',', 8),\n",
       " ('paid', 6),\n",
       " ('increases', 6),\n",
       " ('per', 6),\n",
       " ('the', 6),\n",
       " ('will', 6),\n",
       " ('cut', 4),\n",
       " ('cuts', 4),\n",
       " ('(', 4),\n",
       " ('differentials', 4),\n",
       " ('has', 4),\n",
       " ('stayed', 4),\n",
       " ('was', 4),\n",
       " ('freeze', 4),\n",
       " ('increase', 4),\n",
       " ('would', 4),\n",
       " ('yesterday', 2),\n",
       " ('effect', 2),\n",
       " ('used', 2),\n",
       " ('climate', 2),\n",
       " ('reductions', 2),\n",
       " ('limit', 2),\n",
       " ('now', 2),\n",
       " ('moved', 2),\n",
       " ('adjustments', 2),\n",
       " ('slumped', 2),\n",
       " ('move', 2),\n",
       " ('evolution', 2),\n",
       " ('went', 2),\n",
       " ('factor', 2),\n",
       " ('Royal', 2),\n",
       " ('again', 2),\n",
       " ('changes', 2),\n",
       " ('holds', 2),\n",
       " ('fall', 2),\n",
       " ('-', 2),\n",
       " ('from', 2),\n",
       " ('base', 2),\n",
       " ('on', 2),\n",
       " ('review', 2),\n",
       " ('while', 2),\n",
       " ('collapse', 2),\n",
       " ('being', 2),\n",
       " ('outlook', 2),\n",
       " ('rises', 2),\n",
       " ('drop', 2),\n",
       " ('guaranteed', 2),\n",
       " (',\"', 2),\n",
       " ('structure', 2),\n",
       " ('and', 2),\n",
       " ('could', 2),\n",
       " ('related', 2),\n",
       " ('hike', 2),\n",
       " ('we', 2),\n",
       " ('policy', 2),\n",
       " ('revision', 2),\n",
       " ('led', 2),\n",
       " ('action', 2),\n",
       " ('zone', 2),\n",
       " ('slump', 2),\n",
       " ('had', 2),\n",
       " ('difference', 2),\n",
       " ('in', 2),\n",
       " ('raise', 2),\n",
       " ('support', 2),\n",
       " ('gap', 2),\n",
       " ('projected', 2),\n",
       " ('approached', 2),\n",
       " ('instability', 2)]"
      ]
     },
     "execution_count": 24,
     "metadata": {},
     "output_type": "execute_result"
    }
   ],
   "source": [
    "import operator\n",
    "sorted_x = sorted(model[\"the\",\"price\"].items(), key=operator.itemgetter(1),  reverse=True)\n",
    "sorted_x"
   ]
  },
  {
   "cell_type": "code",
   "execution_count": 25,
   "metadata": {
    "id": "XCbPw_HyFUa-"
   },
   "outputs": [],
   "source": [
    "def genSentence(word1, word2):\n",
    "  max_len = 10\n",
    "  sentence = [word1,word2]\n",
    "  for i in range(max_len):\n",
    "    sorted_x = sorted(model[word1,word2].items(), key=operator.itemgetter(1),  reverse=True)\n",
    "    selected_word = sorted_x[0][0]\n",
    "    if selected_word == None:\n",
    "      break\n",
    "    sentence.append(selected_word)\n",
    "    word1 = word2\n",
    "    word2 = selected_word\n",
    "\n",
    "  return sentence"
   ]
  },
  {
   "cell_type": "code",
   "execution_count": null,
   "metadata": {
    "colab": {
     "base_uri": "https://localhost:8080/",
     "height": 221
    },
    "id": "rTSwqza_GJEA",
    "outputId": "af8eb6a4-4a2b-473c-d8da-1f4852a6983b"
   },
   "outputs": [
    {
     "data": {
      "text/plain": [
       "['the',\n",
       " 'man',\n",
       " 'who',\n",
       " 'has',\n",
       " 'been',\n",
       " 'the',\n",
       " 'subject',\n",
       " 'of',\n",
       " 'takeover',\n",
       " 'speculation',\n",
       " 'for',\n",
       " 'about']"
      ]
     },
     "execution_count": 13,
     "metadata": {
      "tags": []
     },
     "output_type": "execute_result"
    }
   ],
   "source": [
    "genSentence(\"the\",\"man\")"
   ]
  }
 ],
 "metadata": {
  "colab": {
   "collapsed_sections": [],
   "name": "LanguageModeling_Ngram.ipynb",
   "provenance": []
  },
  "kernelspec": {
   "display_name": "Python 3",
   "language": "python",
   "name": "python3"
  },
  "language_info": {
   "codemirror_mode": {
    "name": "ipython",
    "version": 3
   },
   "file_extension": ".py",
   "mimetype": "text/x-python",
   "name": "python",
   "nbconvert_exporter": "python",
   "pygments_lexer": "ipython3",
   "version": "3.7.9"
  }
 },
 "nbformat": 4,
 "nbformat_minor": 1
}
