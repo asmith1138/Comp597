{
  "nbformat": 4,
  "nbformat_minor": 0,
  "metadata": {
    "colab": {
      "name": "Untitled2.ipynb",
      "provenance": [],
      "collapsed_sections": []
    },
    "kernelspec": {
      "name": "python3",
      "display_name": "Python 3.9.1 64-bit",
      "metadata": {
        "interpreter": {
          "hash": "8238193c20ef5e77ecc94de6046cdf5d917ba4af0d58daba2f5c60c3e164a7f5"
        }
      }
    }
  },
  "cells": [
    {
      "cell_type": "code",
      "metadata": {
        "id": "zXzbV_JeYaHI"
      },
      "source": [
        "from sklearn.datasets import fetch_openml\n",
        "mnist = fetch_openml(\"mnist_784\")\n",
        "\n",
        "from sklearn.model_selection import train_test_split\n",
        "train_img, test_img, train_lbl, test_lbl = train_test_split(mnist.data, mnist.target, test_size=1/7.0, random_state=0)"
      ],
      "execution_count": 3,
      "outputs": []
    },
    {
      "cell_type": "code",
      "metadata": {
        "id": "5cdHF-mnYrFG"
      },
      "source": [
        "from keras.utils import to_categorical\n",
        "train_lbl = to_categorical(train_lbl)\n",
        "test_lbl = to_categorical(test_lbl)"
      ],
      "execution_count": 4,
      "outputs": [
        {
          "output_type": "error",
          "ename": "ImportError",
          "evalue": "Keras requires TensorFlow 2.2 or higher. Install TensorFlow via `pip install tensorflow`",
          "traceback": [
            "\u001b[1;31m---------------------------------------------------------------------------\u001b[0m",
            "\u001b[1;31mModuleNotFoundError\u001b[0m                       Traceback (most recent call last)",
            "\u001b[1;32mc:\\users\\andrew\\appdata\\local\\programs\\python\\python39\\lib\\site-packages\\keras\\__init__.py\u001b[0m in \u001b[0;36m<module>\u001b[1;34m\u001b[0m\n\u001b[0;32m      2\u001b[0m \u001b[1;32mtry\u001b[0m\u001b[1;33m:\u001b[0m\u001b[1;33m\u001b[0m\u001b[1;33m\u001b[0m\u001b[0m\n\u001b[1;32m----> 3\u001b[1;33m     \u001b[1;32mfrom\u001b[0m \u001b[0mtensorflow\u001b[0m\u001b[1;33m.\u001b[0m\u001b[0mkeras\u001b[0m\u001b[1;33m.\u001b[0m\u001b[0mlayers\u001b[0m\u001b[1;33m.\u001b[0m\u001b[0mexperimental\u001b[0m\u001b[1;33m.\u001b[0m\u001b[0mpreprocessing\u001b[0m \u001b[1;32mimport\u001b[0m \u001b[0mRandomRotation\u001b[0m\u001b[1;33m\u001b[0m\u001b[1;33m\u001b[0m\u001b[0m\n\u001b[0m\u001b[0;32m      4\u001b[0m \u001b[1;32mexcept\u001b[0m \u001b[0mImportError\u001b[0m\u001b[1;33m:\u001b[0m\u001b[1;33m\u001b[0m\u001b[1;33m\u001b[0m\u001b[0m\n",
            "\u001b[1;31mModuleNotFoundError\u001b[0m: No module named 'tensorflow'",
            "\nDuring handling of the above exception, another exception occurred:\n",
            "\u001b[1;31mImportError\u001b[0m                               Traceback (most recent call last)",
            "\u001b[1;32m<ipython-input-4-39c152d7fbd8>\u001b[0m in \u001b[0;36m<module>\u001b[1;34m\u001b[0m\n\u001b[1;32m----> 1\u001b[1;33m \u001b[1;32mfrom\u001b[0m \u001b[0mkeras\u001b[0m\u001b[1;33m.\u001b[0m\u001b[0mutils\u001b[0m \u001b[1;32mimport\u001b[0m \u001b[0mto_categorical\u001b[0m\u001b[1;33m\u001b[0m\u001b[1;33m\u001b[0m\u001b[0m\n\u001b[0m\u001b[0;32m      2\u001b[0m \u001b[0mtrain_lbl\u001b[0m \u001b[1;33m=\u001b[0m \u001b[0mto_categorical\u001b[0m\u001b[1;33m(\u001b[0m\u001b[0mtrain_lbl\u001b[0m\u001b[1;33m)\u001b[0m\u001b[1;33m\u001b[0m\u001b[1;33m\u001b[0m\u001b[0m\n\u001b[0;32m      3\u001b[0m \u001b[0mtest_lbl\u001b[0m \u001b[1;33m=\u001b[0m \u001b[0mto_categorical\u001b[0m\u001b[1;33m(\u001b[0m\u001b[0mtest_lbl\u001b[0m\u001b[1;33m)\u001b[0m\u001b[1;33m\u001b[0m\u001b[1;33m\u001b[0m\u001b[0m\n",
            "\u001b[1;32mc:\\users\\andrew\\appdata\\local\\programs\\python\\python39\\lib\\site-packages\\keras\\__init__.py\u001b[0m in \u001b[0;36m<module>\u001b[1;34m\u001b[0m\n\u001b[0;32m      3\u001b[0m     \u001b[1;32mfrom\u001b[0m \u001b[0mtensorflow\u001b[0m\u001b[1;33m.\u001b[0m\u001b[0mkeras\u001b[0m\u001b[1;33m.\u001b[0m\u001b[0mlayers\u001b[0m\u001b[1;33m.\u001b[0m\u001b[0mexperimental\u001b[0m\u001b[1;33m.\u001b[0m\u001b[0mpreprocessing\u001b[0m \u001b[1;32mimport\u001b[0m \u001b[0mRandomRotation\u001b[0m\u001b[1;33m\u001b[0m\u001b[1;33m\u001b[0m\u001b[0m\n\u001b[0;32m      4\u001b[0m \u001b[1;32mexcept\u001b[0m \u001b[0mImportError\u001b[0m\u001b[1;33m:\u001b[0m\u001b[1;33m\u001b[0m\u001b[1;33m\u001b[0m\u001b[0m\n\u001b[1;32m----> 5\u001b[1;33m     raise ImportError(\n\u001b[0m\u001b[0;32m      6\u001b[0m         \u001b[1;34m'Keras requires TensorFlow 2.2 or higher. '\u001b[0m\u001b[1;33m\u001b[0m\u001b[1;33m\u001b[0m\u001b[0m\n\u001b[0;32m      7\u001b[0m         'Install TensorFlow via `pip install tensorflow`')\n",
            "\u001b[1;31mImportError\u001b[0m: Keras requires TensorFlow 2.2 or higher. Install TensorFlow via `pip install tensorflow`"
          ]
        }
      ]
    },
    {
      "cell_type": "code",
      "metadata": {
        "id": "hC6PreVKZbs_",
        "colab": {
          "base_uri": "https://localhost:8080/"
        },
        "outputId": "7216caa4-d34b-4c6b-d06a-e051d6ddbaf1"
      },
      "source": [
        "from keras.layers import *\n",
        "from keras.models import Model\n",
        "\n",
        "\n",
        "input_layer = Input(shape = (784,))\n",
        "hidden_layer = Dense(256, activation = \"sigmoid\")(input_layer)\n",
        "output_layer = Dense(10, activation = \"softmax\")(hidden_layer)\n",
        "\n",
        "model = Model(inputs = input_layer, outputs = output_layer)\n",
        "model.compile(loss='categorical_crossentropy', optimizer =\"adam\", metrics=[\"accuracy\"])\n",
        "\n",
        "model.fit(train_img, train_lbl, validation_data = (test_img, test_lbl), epochs = 20, batch_size = 200)"
      ],
      "execution_count": 28,
      "outputs": [
        {
          "output_type": "stream",
          "text": [
            "Epoch 1/20\n",
            "300/300 [==============================] - 3s 7ms/step - loss: 0.8224 - accuracy: 0.7700 - val_loss: 0.3145 - val_accuracy: 0.9164\n",
            "Epoch 2/20\n",
            "300/300 [==============================] - 2s 7ms/step - loss: 0.2829 - accuracy: 0.9224 - val_loss: 0.2691 - val_accuracy: 0.9236\n",
            "Epoch 3/20\n",
            "300/300 [==============================] - 2s 7ms/step - loss: 0.2446 - accuracy: 0.9304 - val_loss: 0.2442 - val_accuracy: 0.9298\n",
            "Epoch 4/20\n",
            "300/300 [==============================] - 2s 7ms/step - loss: 0.2193 - accuracy: 0.9376 - val_loss: 0.2275 - val_accuracy: 0.9368\n",
            "Epoch 5/20\n",
            "300/300 [==============================] - 2s 7ms/step - loss: 0.2123 - accuracy: 0.9405 - val_loss: 0.2218 - val_accuracy: 0.9372\n",
            "Epoch 6/20\n",
            "300/300 [==============================] - 2s 7ms/step - loss: 0.2010 - accuracy: 0.9436 - val_loss: 0.2066 - val_accuracy: 0.9412\n",
            "Epoch 7/20\n",
            "300/300 [==============================] - 2s 7ms/step - loss: 0.1869 - accuracy: 0.9452 - val_loss: 0.1995 - val_accuracy: 0.9436\n",
            "Epoch 8/20\n",
            "300/300 [==============================] - 2s 7ms/step - loss: 0.1772 - accuracy: 0.9479 - val_loss: 0.2002 - val_accuracy: 0.9421\n",
            "Epoch 9/20\n",
            "300/300 [==============================] - 2s 7ms/step - loss: 0.1716 - accuracy: 0.9503 - val_loss: 0.2038 - val_accuracy: 0.9392\n",
            "Epoch 10/20\n",
            "300/300 [==============================] - 2s 7ms/step - loss: 0.1732 - accuracy: 0.9497 - val_loss: 0.1967 - val_accuracy: 0.9443\n",
            "Epoch 11/20\n",
            "300/300 [==============================] - 2s 7ms/step - loss: 0.1739 - accuracy: 0.9481 - val_loss: 0.1970 - val_accuracy: 0.9425\n",
            "Epoch 12/20\n",
            "300/300 [==============================] - 2s 7ms/step - loss: 0.1665 - accuracy: 0.9504 - val_loss: 0.1850 - val_accuracy: 0.9441\n",
            "Epoch 13/20\n",
            "300/300 [==============================] - 2s 7ms/step - loss: 0.1638 - accuracy: 0.9511 - val_loss: 0.1924 - val_accuracy: 0.9429\n",
            "Epoch 14/20\n",
            "300/300 [==============================] - 2s 7ms/step - loss: 0.1578 - accuracy: 0.9547 - val_loss: 0.1856 - val_accuracy: 0.9430\n",
            "Epoch 15/20\n",
            "300/300 [==============================] - 2s 7ms/step - loss: 0.1504 - accuracy: 0.9546 - val_loss: 0.1818 - val_accuracy: 0.9435\n",
            "Epoch 16/20\n",
            "300/300 [==============================] - 2s 7ms/step - loss: 0.1507 - accuracy: 0.9556 - val_loss: 0.1768 - val_accuracy: 0.9475\n",
            "Epoch 17/20\n",
            "300/300 [==============================] - 2s 7ms/step - loss: 0.1559 - accuracy: 0.9527 - val_loss: 0.1783 - val_accuracy: 0.9462\n",
            "Epoch 18/20\n",
            "300/300 [==============================] - 2s 7ms/step - loss: 0.1521 - accuracy: 0.9542 - val_loss: 0.1740 - val_accuracy: 0.9476\n",
            "Epoch 19/20\n",
            "300/300 [==============================] - 2s 7ms/step - loss: 0.1465 - accuracy: 0.9555 - val_loss: 0.1776 - val_accuracy: 0.9462\n",
            "Epoch 20/20\n",
            "300/300 [==============================] - 2s 7ms/step - loss: 0.1397 - accuracy: 0.9586 - val_loss: 0.1693 - val_accuracy: 0.9498\n"
          ],
          "name": "stdout"
        },
        {
          "output_type": "execute_result",
          "data": {
            "text/plain": [
              "<tensorflow.python.keras.callbacks.History at 0x7f7ca5dca438>"
            ]
          },
          "metadata": {
            "tags": []
          },
          "execution_count": 28
        }
      ]
    },
    {
      "cell_type": "code",
      "metadata": {
        "id": "n0OdFwYjcUKF",
        "colab": {
          "base_uri": "https://localhost:8080/"
        },
        "outputId": "32ff51e4-0b6e-4568-aeb9-9d29494ae1a1"
      },
      "source": [
        "score = model.evaluate(test_img, test_lbl, verbose=0)\n",
        "print('Test loss: %.4f'% score[0])\n",
        "print('Test accuracy %.4f'% score[1])\n"
      ],
      "execution_count": 29,
      "outputs": [
        {
          "output_type": "stream",
          "text": [
            "Test loss: 0.1693\n",
            "Test accuracy 0.9498\n"
          ],
          "name": "stdout"
        }
      ]
    },
    {
      "cell_type": "code",
      "metadata": {
        "id": "A63UtDEDcUD3",
        "colab": {
          "base_uri": "https://localhost:8080/",
          "height": 218
        },
        "outputId": "64ad5ccc-7495-483c-951c-77dd06c75285"
      },
      "source": [
        "import matplotlib.pyplot as plt\n",
        "plt.subplot(1,2,1)\n",
        "plt.imshow(train_img[0].reshape(28,28))\n",
        "\n",
        "plt.subplot(1,2,2)\n",
        "plt.imshow(test_img[0].reshape(28,28))\n"
      ],
      "execution_count": 24,
      "outputs": [
        {
          "output_type": "execute_result",
          "data": {
            "text/plain": [
              "<matplotlib.image.AxesImage at 0x7f7cb14c4e80>"
            ]
          },
          "metadata": {
            "tags": []
          },
          "execution_count": 24
        },
        {
          "output_type": "display_data",
          "data": {
            "image/png": "[encoded data removed]",
            "text/plain": [
              "<Figure size 432x288 with 2 Axes>"
            ]
          },
          "metadata": {
            "tags": [],
            "needs_background": "light"
          }
        }
      ]
    }
  ]
}